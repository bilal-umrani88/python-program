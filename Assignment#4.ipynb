{
 "cells": [
  {
   "cell_type": "code",
   "execution_count": 2,
   "metadata": {},
   "outputs": [
    {
     "name": "stdout",
     "output_type": "stream",
     "text": [
      "Enter your fovourite book name:Harry Potter\n"
     ]
    },
    {
     "data": {
      "text/plain": [
       "'One of my favourite book is Harry Potter'"
      ]
     },
     "execution_count": 2,
     "metadata": {},
     "output_type": "execute_result"
    }
   ],
   "source": [
    "def favourite_book(title):\n",
    "    return \"One of my favourite book is \"+title\n",
    "book_name=input(\"Enter your fovourite book name:\")\n",
    "favourite_book(book_name)"
   ]
  },
  {
   "cell_type": "code",
   "execution_count": null,
   "metadata": {},
   "outputs": [
    {
     "name": "stdout",
     "output_type": "stream",
     "text": [
      "Enter your age:3\n",
      "No Ticket for age:3\n",
      "Enter your age:5\n",
      "The ticket price is $10 for age:5\n",
      "Enter your age:23\n",
      "The ticket price is $15 for age:23\n"
     ]
    }
   ],
   "source": [
    "a=2\n",
    "while a not in range(2):\n",
    "  age=int(input(\"Enter your age:\"))\n",
    "  if age==3:\n",
    "    print(\"No Ticket for age:\"+str(age))\n",
    "  if age>3 and age<=12:\n",
    "    print(\"The ticket price is $10 for age:\"+str(age))\n",
    "  if age>12:\n",
    "    print(\"The ticket price is $15 for age:\"+str(age))"
   ]
  },
  {
   "cell_type": "code",
   "execution_count": 1,
   "metadata": {},
   "outputs": [
    {
     "name": "stdout",
     "output_type": "stream",
     "text": [
      "Enter the number:4\n",
      "Number is small\n",
      "Chance left: 2\n",
      "Enter the number:20\n",
      "Number is big\n",
      "Chance left: 1\n",
      "Enter the number:15\n",
      "Number is big\n",
      "Chance left: 0\n",
      "OOPS,YOU LOST!\n"
     ]
    }
   ],
   "source": [
    "import random\n",
    "chance=3\n",
    "number=random.randint(1,30)\n",
    "i=0\n",
    "while i in range(4):\n",
    " guess=int(input(\"Enter the number:\"))\n",
    " if guess>number:\n",
    "  print(\"Number is big\")\n",
    " if guess<number:\n",
    "  print(\"Number is small\")\n",
    " if guess==number:\n",
    "  print(\"Number is correct!\"+\"\\n\"+\"CONGRAGULATIONS,YOU WIN!!\")\n",
    "  break\n",
    " chance-=1\n",
    " print(\"Chance left:\",chance)\n",
    " if chance==0:\n",
    "  print(\"OOPS,YOU LOST!\")\n",
    "  break\n",
    "    "
   ]
  },
  {
   "cell_type": "code",
   "execution_count": 14,
   "metadata": {},
   "outputs": [
    {
     "name": "stdout",
     "output_type": "stream",
     "text": [
      "City: Karachi\n",
      "Country: Pakistan\n",
      "Population: 14.91 million(approx)\n",
      "Fact: Also known as the City of Lights\n",
      "City: Dubai\n",
      "Country: UAE\n",
      "Population: 3.2 million(approx)\n",
      "Fact: Known for Skyline buildings and resorts\n",
      "City: Paris\n",
      "Country: France\n",
      "Population: 2.2 million(approx)\n",
      "Fact: Known for Effil Tower\n"
     ]
    }
   ],
   "source": [
    "cities={\n",
    "    \"Karachi\":{\n",
    "    \"Country\":\"Pakistan\",\n",
    "    \"Population\":\"14.91 million(approx)\",\n",
    "    \"Fact\":\"Also known as the City of Lights\"\n",
    "    },\n",
    "    \"Dubai\":{\n",
    "    \"Country\":\"UAE\",\n",
    "    \"Population\":\"3.2 million(approx)\",\n",
    "    \"Fact\":\"Known for Skyline buildings and resorts\"\n",
    "    },\n",
    "    \"Paris\":{\n",
    "    \"Country\":\"France\",\n",
    "    \"Population\":\"2.2 million(approx)\",\n",
    "    \"Fact\":\"Known for Effil Tower\"\n",
    "    }\n",
    "}\n",
    "for city,i in cities.items():\n",
    "    print(\"City:\",city+\"\\nCountry:\",i[\"Country\"]+\"\\nPopulation:\",i[\"Population\"]+\"\\nFact:\",i[\"Fact\"])\n",
    "    "
   ]
  },
  {
   "cell_type": "code",
   "execution_count": 35,
   "metadata": {},
   "outputs": [
    {
     "name": "stdout",
     "output_type": "stream",
     "text": [
      "First Name:Arham\n",
      "Last Name:Kashif\n",
      "Age:19\n",
      "City:Karachi\n",
      "After Insertion\n",
      "First Name:Arham\n",
      "Last Name:Kashif\n",
      "Age:19\n",
      "City:Karachi\n",
      "Qualification:Matric\n",
      "After Updation\n",
      "First Name:Arham\n",
      "Last Name:Kashif\n",
      "Age:19\n",
      "City:Karachi\n",
      "Qualification:Intermediate\n",
      "After Deletion\n",
      "First Name:Arham\n",
      "Last Name:Kashif\n",
      "Age:19\n",
      "City:Karachi\n"
     ]
    }
   ],
   "source": [
    "person={\n",
    "    \"first_Name\":\"Arham\",\n",
    "    \"last_Name\":\"Kashif\",\n",
    "    \"age\":'19',\n",
    "    \"City\":\"Karachi\",\n",
    "}\n",
    "print(\"First Name:\"+person[\"first_Name\"]+\"\\nLast Name:\"+person[\"last_Name\"]+\"\\nAge:\"+person[\"age\"]+\"\\nCity:\"+person[\"City\"])\n",
    "person.update({\"Qualification\":\"Matric\"})\n",
    "print(\"After Insertion\")\n",
    "print(\"First Name:\"+person[\"first_Name\"]+\"\\nLast Name:\"+person[\"last_Name\"]+\"\\nAge:\"+person[\"age\"]+\"\\nCity:\"+person[\"City\"]+\"\\nQualification:\"+person[\"Qualification\"])\n",
    "person.update({\"Qualification\":\"Intermediate\"})\n",
    "print(\"After Updation\")\n",
    "print(\"First Name:\"+person[\"first_Name\"]+\"\\nLast Name:\"+person[\"last_Name\"]+\"\\nAge:\"+person[\"age\"]+\"\\nCity:\"+person[\"City\"]+\"\\nQualification:\"+person[\"Qualification\"])\n",
    "del person[\"Qualification\"]\n",
    "print(\"After Deletion\")\n",
    "print(\"First Name:\"+person[\"first_Name\"]+\"\\nLast Name:\"+person[\"last_Name\"]+\"\\nAge:\"+person[\"age\"]+\"\\nCity:\"+person[\"City\"])\n"
   ]
  },
  {
   "cell_type": "code",
   "execution_count": null,
   "metadata": {},
   "outputs": [],
   "source": [
    "10"
   ]
  }
 ],
 "metadata": {
  "kernelspec": {
   "display_name": "Python 3",
   "language": "python",
   "name": "python3"
  },
  "language_info": {
   "codemirror_mode": {
    "name": "ipython",
    "version": 3
   },
   "file_extension": ".py",
   "mimetype": "text/x-python",
   "name": "python",
   "nbconvert_exporter": "python",
   "pygments_lexer": "ipython3",
   "version": "3.7.4"
  }
 },
 "nbformat": 4,
 "nbformat_minor": 2
}
